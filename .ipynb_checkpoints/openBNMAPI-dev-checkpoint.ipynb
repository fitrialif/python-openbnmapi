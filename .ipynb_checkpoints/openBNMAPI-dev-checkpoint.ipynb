{
 "cells": [
  {
   "cell_type": "code",
   "execution_count": 10,
   "metadata": {},
   "outputs": [],
   "source": [
    "import json\n",
    "import requests\n",
    "import pandas as pd"
   ]
  },
  {
   "cell_type": "code",
   "execution_count": 80,
   "metadata": {},
   "outputs": [
    {
     "ename": "ModuleNotFoundError",
     "evalue": "No module named '__main__.openbnmapi'; '__main__' is not a package",
     "output_type": "error",
     "traceback": [
      "\u001b[1;31m---------------------------------------------------------------------------\u001b[0m",
      "\u001b[1;31mModuleNotFoundError\u001b[0m                       Traceback (most recent call last)",
      "\u001b[1;32m<ipython-input-80-a7362c5aba27>\u001b[0m in \u001b[0;36m<module>\u001b[1;34m\u001b[0m\n\u001b[1;32m----> 1\u001b[1;33m \u001b[1;32mfrom\u001b[0m \u001b[1;33m.\u001b[0m\u001b[0mopenbnmapi\u001b[0m \u001b[1;32mimport\u001b[0m \u001b[0mOpenBNMAPy\u001b[0m\u001b[1;33m\u001b[0m\u001b[1;33m\u001b[0m\u001b[0m\n\u001b[0m",
      "\u001b[1;31mModuleNotFoundError\u001b[0m: No module named '__main__.openbnmapi'; '__main__' is not a package"
     ]
    }
   ],
   "source": [
    "from openbnmapi.openbnmapi import OpenBNMAPy"
   ]
  },
  {
   "cell_type": "code",
   "execution_count": 77,
   "metadata": {},
   "outputs": [
    {
     "ename": "AttributeError",
     "evalue": "module 'openbnmapi' has no attribute 'OpenBNMAPy'",
     "output_type": "error",
     "traceback": [
      "\u001b[1;31m---------------------------------------------------------------------------\u001b[0m",
      "\u001b[1;31mAttributeError\u001b[0m                            Traceback (most recent call last)",
      "\u001b[1;32m<ipython-input-77-0cb2004edc27>\u001b[0m in \u001b[0;36m<module>\u001b[1;34m\u001b[0m\n\u001b[1;32m----> 1\u001b[1;33m \u001b[0mopenbnmapi\u001b[0m\u001b[1;33m.\u001b[0m\u001b[0mOpenBNMAPy\u001b[0m\u001b[1;33m(\u001b[0m\u001b[1;33m)\u001b[0m\u001b[1;33m\u001b[0m\u001b[1;33m\u001b[0m\u001b[0m\n\u001b[0m",
      "\u001b[1;31mAttributeError\u001b[0m: module 'openbnmapi' has no attribute 'OpenBNMAPy'"
     ]
    }
   ],
   "source": [
    "openbnmapi.OpenBNMAPy()"
   ]
  },
  {
   "cell_type": "code",
   "execution_count": 4,
   "metadata": {},
   "outputs": [],
   "source": [
    "base_url = \"https://api.bnm.gov.my/public\"\n",
    "header = {\"Accept\" : \"application/vnd.BNM.API.v1+json\"}"
   ]
  },
  {
   "cell_type": "code",
   "execution_count": 7,
   "metadata": {},
   "outputs": [],
   "source": [
    "req_url = \"{}/fx-turn-over\".format(base_url)\n",
    "r = requests.get(req_url, headers=header)"
   ]
  },
  {
   "cell_type": "code",
   "execution_count": 8,
   "metadata": {},
   "outputs": [
    {
     "data": {
      "text/plain": [
       "{'data': {'date': '2019-03-22', 'total_sum': 12.18},\n",
       " 'meta': {'last_updated': '2019-03-22 07:00:03', 'total_result': 1}}"
      ]
     },
     "execution_count": 8,
     "metadata": {},
     "output_type": "execute_result"
    }
   ],
   "source": [
    "r.json()"
   ]
  },
  {
   "cell_type": "code",
   "execution_count": 53,
   "metadata": {},
   "outputs": [],
   "source": [
    "class OpenBNMAPy:\n",
    "    \n",
    "    def __init__(self, default_rtype = 'json'):\n",
    "        self.base_url = \"https://api.bnm.gov.my/public\"\n",
    "        self.headers = {\"Accept\" : \"application/vnd.BNM.API.v1+json\"}\n",
    "        self.default_rtype = default_rtype\n",
    "        \n",
    "        # TO DO: Move to constants file\n",
    "        self.swift_codes = ['BKKBMYKL', 'CIBBMYKL', 'CITIMYKL', 'HLBBMYKL', 'HBMBMYKL', 'ICBKMYKL', \n",
    "                            'MBBEMYKL', 'OCBCMYKL', 'PBBEMYKL', 'RHBBMYKL', 'SCBLMYKX', 'UOVBMYKL', \n",
    "                            'AIBBMYKL', 'ALSRMYKL', 'AISLMYKL', 'BIMBMYKL', 'BMMBMYKL', 'CTBBMYKL', \n",
    "                            'HLIBMYKL', 'HMABMYKL', 'KFHOMYKL', 'MBISMYKL', 'AFBQMYKL', 'OABBMYKL', \n",
    "                            'PUIBMYKL', 'RHBAMYKL', 'SCSRMYKK', 'AGOBMYKL', 'BSNAMYK1', 'PHBMMYKL', \n",
    "                            'MFBBMYKL', 'ARBKMYKL', 'BKCHMYKL', 'RJHIMYKL', 'BKRMMYKL']\n",
    "        \n",
    "    def _send_get_request(self, req_url, **params):\n",
    "        # Parse params\n",
    "        \n",
    "        # Send request\n",
    "        \n",
    "        r = requests.get(req_url, headers=self.headers)\n",
    "        \n",
    "        # Handle Response\n",
    "        if r.status_code == 200 or r.status_code == 201:\n",
    "            return r\n",
    "        else:\n",
    "            return\n",
    "            # To-Do: Handle error codes and exceptions here\n",
    "            \n",
    "    def _return_response(self, response, rtype):\n",
    "        if rtype is None:\n",
    "            rtype = self.default_rtype\n",
    "        if rtype =='json':\n",
    "            return response.json()\n",
    "        if rtype == 'df':\n",
    "            # TO-DO: Handle to dataframes\n",
    "            return\n",
    "        \n",
    "    def _validate_date(self, date, dformat=\"YYYY/MM/DD\"):\n",
    "        return\n",
    "    \n",
    "    def base_rates(self, swift_code=None,rtype = 'json'):\n",
    "        # Form the request url\n",
    "        req_url = \"{}{}\".format(self.base_url, '/base-rate')\n",
    "        \n",
    "        # Append additional argument if present\n",
    "        if swift_code:\n",
    "            # Validate if its a valid swift code\n",
    "            if swift_code in self.swift_codes:\n",
    "                req_url = \"{}/{}\".format(req_url, swift_code)\n",
    "            else:\n",
    "                # To-DO: Handle the exception for invalid params value\n",
    "                raise ValueError(\"Wrong Swift Code\")\n",
    "        \n",
    "        res = self._send_get_request(req_url)\n",
    "        \n",
    "        return self._return_response(res, rtype)"
   ]
  },
  {
   "cell_type": "code",
   "execution_count": 79,
   "metadata": {},
   "outputs": [],
   "source": [
    "openpy = OpenBNMAPy()"
   ]
  },
  {
   "cell_type": "code",
   "execution_count": 62,
   "metadata": {},
   "outputs": [
    {
     "data": {
      "text/plain": [
       "<module 'openbnmapi' from 'D:\\\\Users\\\\sskhai\\\\Desktop\\\\openbnmapi\\\\openbnmapi\\\\__init__.py'>"
      ]
     },
     "execution_count": 62,
     "metadata": {},
     "output_type": "execute_result"
    }
   ],
   "source": [
    "openpy"
   ]
  },
  {
   "cell_type": "code",
   "execution_count": 61,
   "metadata": {},
   "outputs": [
    {
     "ename": "AttributeError",
     "evalue": "module 'openbnmapi' has no attribute 'base_rates'",
     "output_type": "error",
     "traceback": [
      "\u001b[1;31m---------------------------------------------------------------------------\u001b[0m",
      "\u001b[1;31mAttributeError\u001b[0m                            Traceback (most recent call last)",
      "\u001b[1;32m<ipython-input-61-6c0b6b070e50>\u001b[0m in \u001b[0;36m<module>\u001b[1;34m\u001b[0m\n\u001b[1;32m----> 1\u001b[1;33m \u001b[0mdata\u001b[0m \u001b[1;33m=\u001b[0m \u001b[0mopenpy\u001b[0m\u001b[1;33m.\u001b[0m\u001b[0mbase_rates\u001b[0m\u001b[1;33m(\u001b[0m\u001b[0mswift_code\u001b[0m\u001b[1;33m=\u001b[0m\u001b[1;34m'BKCHMKL'\u001b[0m\u001b[1;33m)\u001b[0m\u001b[1;33m\u001b[0m\u001b[1;33m\u001b[0m\u001b[0m\n\u001b[0m\u001b[0;32m      2\u001b[0m \u001b[0mdata\u001b[0m\u001b[1;33m\u001b[0m\u001b[1;33m\u001b[0m\u001b[0m\n",
      "\u001b[1;31mAttributeError\u001b[0m: module 'openbnmapi' has no attribute 'base_rates'"
     ]
    }
   ],
   "source": [
    "data = openpy.base_rates(swift_code='BKCHMKL')\n",
    "data"
   ]
  },
  {
   "cell_type": "code",
   "execution_count": 46,
   "metadata": {},
   "outputs": [
    {
     "data": {
      "text/plain": [
       "{'data': {'bank_code': 'BKCHMYKL',\n",
       "  'bank_name': 'Bank of China (M) Berhad',\n",
       "  'base_rate': 4.05,\n",
       "  'base_lending_rate': 6.85,\n",
       "  'indicative_eff_lending_rate': 5.05},\n",
       " 'meta': {'effective_date': '2019-01-18',\n",
       "  'last_updated': '2019-02-14 11:45:59',\n",
       "  'total_result': 1}}"
      ]
     },
     "execution_count": 46,
     "metadata": {},
     "output_type": "execute_result"
    }
   ],
   "source": [
    "data"
   ]
  },
  {
   "cell_type": "code",
   "execution_count": 24,
   "metadata": {},
   "outputs": [],
   "source": [
    "swift_codes = [i['bank_code']  for i in data['data']]"
   ]
  },
  {
   "cell_type": "code",
   "execution_count": 28,
   "metadata": {},
   "outputs": [
    {
     "name": "stdout",
     "output_type": "stream",
     "text": [
      "['BKKBMYKL', 'CIBBMYKL', 'CITIMYKL', 'HLBBMYKL', 'HBMBMYKL', 'ICBKMYKL', 'MBBEMYKL', 'OCBCMYKL', 'PBBEMYKL', 'RHBBMYKL', 'SCBLMYKX', 'UOVBMYKL', 'AIBBMYKL', 'ALSRMYKL', 'AISLMYKL', 'BIMBMYKL', 'BMMBMYKL', 'CTBBMYKL', 'HLIBMYKL', 'HMABMYKL', 'KFHOMYKL', 'MBISMYKL', 'AFBQMYKL', 'OABBMYKL', 'PUIBMYKL', 'RHBAMYKL', 'SCSRMYKK', 'AGOBMYKL', 'BSNAMYK1', 'PHBMMYKL', 'MFBBMYKL', 'ARBKMYKL', 'BKCHMYKL', 'RJHIMYKL', 'BKRMMYKL']\n"
     ]
    }
   ],
   "source": [
    "print(swift_codes)"
   ]
  },
  {
   "cell_type": "code",
   "execution_count": 19,
   "metadata": {},
   "outputs": [
    {
     "data": {
      "text/plain": [
       "{'message': 'Internal Server Error.', 'code': 404}"
      ]
     },
     "execution_count": 19,
     "metadata": {},
     "output_type": "execute_result"
    }
   ],
   "source": [
    "swift = \"BKKBMYKL\"\n",
    "req_url = \"{}/base-rate/{}\".format(base_url, swift)\n",
    "r = requests.get(req_url, headers=header)\n",
    "r.json()"
   ]
  },
  {
   "cell_type": "code",
   "execution_count": 18,
   "metadata": {},
   "outputs": [
    {
     "data": {
      "text/plain": [
       "{'data': {'bank_code': 'BKKBMYKL',\n",
       "  'bank_name': 'Bangkok Bank Berhad',\n",
       "  'base_rate': 4.72,\n",
       "  'base_lending_rate': 7.37,\n",
       "  'indicative_eff_lending_rate': 5.92},\n",
       " 'meta': {'effective_date': '2019-01-18',\n",
       "  'last_updated': '2019-01-18 19:25:02',\n",
       "  'total_result': 1}}"
      ]
     },
     "execution_count": 18,
     "metadata": {},
     "output_type": "execute_result"
    }
   ],
   "source": []
  },
  {
   "cell_type": "code",
   "execution_count": null,
   "metadata": {},
   "outputs": [],
   "source": []
  }
 ],
 "metadata": {
  "kernelspec": {
   "display_name": "Python 3",
   "language": "python",
   "name": "python3"
  },
  "language_info": {
   "codemirror_mode": {
    "name": "ipython",
    "version": 3
   },
   "file_extension": ".py",
   "mimetype": "text/x-python",
   "name": "python",
   "nbconvert_exporter": "python",
   "pygments_lexer": "ipython3",
   "version": "3.6.7"
  }
 },
 "nbformat": 4,
 "nbformat_minor": 2
}
